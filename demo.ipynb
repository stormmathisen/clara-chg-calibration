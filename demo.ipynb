{
 "cells": [
  {
   "cell_type": "markdown",
   "metadata": {},
   "source": [
    "# Demo of getting waveform from EPICS\n",
    "\n",
    "## Import packages\n",
    "\n",
    "`numpy` for better arrays\n",
    "`pyplot` for plotting\n",
    "`os` for accessing environment variables\n",
    "\n",
    "`EPICS_CA_ADDR_LIST` and `EPICS_CA_SERVER_PORT`sets the list of IPs and the port `pyepics` will broadcast to when you ask for variabless\n",
    "\n",
    "Port is only necessary is talking to the virtual accelerator\n",
    "\n",
    "The rest you don't need to understand\n",
    "\n",
    "`epics` is for talking to the accelerator"
   ]
  },
  {
   "cell_type": "code",
   "execution_count": 4,
   "metadata": {},
   "outputs": [],
   "source": [
    "import numpy as np\n",
    "import matplotlib.pyplot as plt\n",
    "import os\n",
    "\n",
    "VIRTUAL = False\n",
    "\n",
    "if VIRTUAL:\n",
    "    os.environ['EPICS_CA_ADDR_LIST'] = ''\n",
    "    os.environ['EPICS_CA_SERVER_PORT'] = ''\n",
    "    vm = 'VM-'\n",
    "else:\n",
    "    os.environ['EPICS_CA_ADDR_LIST'] = ''\n",
    "    vm = ''\n",
    "\n",
    "os.environ['EPICS_CA_AUTO_ADDR_LIST'] = 'NO'\n",
    "os.environ['EPICS_CA_MAX_ARRAY_BYTES'] = '10000000'\n",
    "\n",
    "import epics"
   ]
  },
  {
   "cell_type": "markdown",
   "metadata": {},
   "source": [
    "## Getting a scalar\n",
    "\n",
    "`epics.caget` is a very simple way, doesn't maintain connection\n",
    "\n",
    "`epics.PV` is an object that maintains connection - Better for monitoring (getting values every time something changes)"
   ]
  },
  {
   "cell_type": "code",
   "execution_count": 5,
   "metadata": {},
   "outputs": [
    {
     "name": "stdout",
     "output_type": "stream",
     "text": [
      "cannot connect to CLA-S01-VAC-VALV-01:Sta\n",
      "None\n",
      "None\n"
     ]
    }
   ],
   "source": [
    "PVName = f'{vm}CLA-S01-VAC-VALV-01:Sta'\n",
    "# The {vm} is a prefix for the virtual machine, it is empty if the script is targeting the real machine\n",
    "\n",
    "value = epics.caget(PVName)\n",
    "print(value)\n",
    "\n",
    "pvo = epics.PV(PVName)\n",
    "value = pvo.get()\n",
    "print(value)"
   ]
  },
  {
   "cell_type": "code",
   "execution_count": null,
   "metadata": {},
   "outputs": [],
   "source": []
  }
 ],
 "metadata": {
  "kernelspec": {
   "display_name": ".venv",
   "language": "python",
   "name": "python3"
  },
  "language_info": {
   "codemirror_mode": {
    "name": "ipython",
    "version": 3
   },
   "file_extension": ".py",
   "mimetype": "text/x-python",
   "name": "python",
   "nbconvert_exporter": "python",
   "pygments_lexer": "ipython3",
   "version": "3.12.3"
  }
 },
 "nbformat": 4,
 "nbformat_minor": 2
}
